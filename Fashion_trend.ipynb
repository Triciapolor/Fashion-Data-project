{
  "nbformat": 4,
  "nbformat_minor": 0,
  "metadata": {
    "colab": {
      "provenance": [],
      "authorship_tag": "ABX9TyOm6ksM0yaO3VpcS/1W/vo+",
      "include_colab_link": true
    },
    "kernelspec": {
      "name": "python3",
      "display_name": "Python 3"
    },
    "language_info": {
      "name": "python"
    }
  },
  "cells": [
    {
      "cell_type": "markdown",
      "metadata": {
        "id": "view-in-github",
        "colab_type": "text"
      },
      "source": [
        "<a href=\"https://colab.research.google.com/github/Triciapolor/Fashion-Data-project/blob/main/Fashion_trend.ipynb\" target=\"_parent\"><img src=\"https://colab.research.google.com/assets/colab-badge.svg\" alt=\"Open In Colab\"/></a>"
      ]
    },
    {
      "cell_type": "code",
      "source": [
        "# Importing the necessary libraries\n",
        "import tensorflow as tf\n",
        "\n",
        "# Loading the Fashion-MNIST dataset downloadable from tensorflow\n",
        "data = tf.keras.datasets.fashion_mnist.load_data()\n",
        "(X_train, y_train), (X_test, y_test) = data\n",
        "\n",
        "# Normalising the pixel value for the maximum allowes, in this case it will be 8-bit\n",
        "X_train = X_train / 255.0\n",
        "X_test = X_test / 255.0\n",
        "# Defining a CNN model\n",
        "model = tf.keras.models.Sequential([\n",
        "    tf.keras.layers.Conv2D(32, (3,3), activation=\"relu\", input_shape=(28,28,1)),\n",
        "    tf.keras.layers.MaxPooling2D((2,2)),\n",
        "    tf.keras.layers.Conv2D(64, (3,3), activation=\"relu\"),\n",
        "    tf.keras.layers.MaxPooling2D((2,2)),\n",
        "    tf.keras.layers.Conv2D(128, (3,3), activation=\"relu\"),\n",
        "    tf.keras.layers.Flatten(),\n",
        "    tf.keras.layers.Dense(128, activation=\"relu\"),\n",
        "    tf.keras.layers.Dense(10, activation=\"softmax\")\n",
        "])\n",
        "\n",
        "# Compiling the model\n",
        "model.compile(optimizer=\"adam\", loss=\"sparse_categorical_crossentropy\", metrics=[\"accuracy\"])\n",
        "\n",
        "# Training the model on the Fashion-MNIST dataset\n",
        "model.fit(X_train.reshape(-1,28,28,1), y_train, epochs=10, validation_data=(X_test.reshape(-1,28,28,1), y_test))\n",
        "import numpy as np\n",
        "import matplotlib.pyplot as plt\n",
        "\n",
        "# Using a random image from the test set\n",
        "index = np.random.randint(0, len(X_test))\n",
        "image = X_test[index].reshape(28,28)\n",
        "\n",
        "# Making a prediction using the trained model\n",
        "prediction = model.predict(image.reshape(1,28,28,1))[0]\n",
        "category = np.argmax(prediction)\n",
        "\n",
        "# Ploting the image and prediction result\n",
        "fig, ax = plt.subplots()\n",
        "ax.imshow(image, cmap=\"gray\")\n",
        "ax.set_title(f\"Predicted category: {category}\")"
      ],
      "metadata": {
        "colab": {
          "base_uri": "https://localhost:8080/",
          "height": 655
        },
        "id": "Cvuow2bqGa2h",
        "outputId": "130e8de9-0aeb-4104-87ab-255080a5005f"
      },
      "execution_count": 5,
      "outputs": [
        {
          "output_type": "stream",
          "name": "stdout",
          "text": [
            "Epoch 1/10\n",
            "1875/1875 [==============================] - 72s 38ms/step - loss: 0.4662 - accuracy: 0.8286 - val_loss: 0.3452 - val_accuracy: 0.8747\n",
            "Epoch 2/10\n",
            "1875/1875 [==============================] - 70s 37ms/step - loss: 0.3014 - accuracy: 0.8881 - val_loss: 0.2890 - val_accuracy: 0.8957\n",
            "Epoch 3/10\n",
            "1875/1875 [==============================] - 67s 36ms/step - loss: 0.2540 - accuracy: 0.9058 - val_loss: 0.2757 - val_accuracy: 0.8992\n",
            "Epoch 4/10\n",
            "1875/1875 [==============================] - 69s 37ms/step - loss: 0.2202 - accuracy: 0.9178 - val_loss: 0.2685 - val_accuracy: 0.9063\n",
            "Epoch 5/10\n",
            "1875/1875 [==============================] - 69s 37ms/step - loss: 0.1942 - accuracy: 0.9272 - val_loss: 0.2711 - val_accuracy: 0.9014\n",
            "Epoch 6/10\n",
            "1875/1875 [==============================] - 67s 36ms/step - loss: 0.1717 - accuracy: 0.9351 - val_loss: 0.2572 - val_accuracy: 0.9081\n",
            "Epoch 7/10\n",
            "1875/1875 [==============================] - 70s 37ms/step - loss: 0.1503 - accuracy: 0.9436 - val_loss: 0.2849 - val_accuracy: 0.9068\n",
            "Epoch 8/10\n",
            "1875/1875 [==============================] - 67s 36ms/step - loss: 0.1327 - accuracy: 0.9498 - val_loss: 0.2758 - val_accuracy: 0.9072\n",
            "Epoch 9/10\n",
            "1875/1875 [==============================] - 68s 36ms/step - loss: 0.1185 - accuracy: 0.9552 - val_loss: 0.3167 - val_accuracy: 0.9107\n",
            "Epoch 10/10\n",
            "1875/1875 [==============================] - 68s 36ms/step - loss: 0.1047 - accuracy: 0.9603 - val_loss: 0.3213 - val_accuracy: 0.9080\n",
            "1/1 [==============================] - 0s 101ms/step\n"
          ]
        },
        {
          "output_type": "execute_result",
          "data": {
            "text/plain": [
              "Text(0.5, 1.0, 'Predicted category: 9')"
            ]
          },
          "metadata": {},
          "execution_count": 5
        },
        {
          "output_type": "display_data",
          "data": {
            "text/plain": [
              "<Figure size 432x288 with 1 Axes>"
            ],
            "image/png": "[encoded data removed]"
          },
          "metadata": {
            "needs_background": "light"
          }
        }
      ]
    }
  ]
}
