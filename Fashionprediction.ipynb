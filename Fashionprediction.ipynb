# Importing the necessary libraries
import tensorflow as tf

# Load the Fashion-MNIST dataset downloadable from tensorflow
data = tf.keras.datasets.fashion_mnist.load_data()
(X_train, y_train), (X_test, y_test) = data

# Normalizing the pixel value for the maximum allowes, in this case it will be 8-bit
X_train = X_train / 255.0
X_test = X_test / 255.0
# Define a CNN model
model = tf.keras.models.Sequential([
    tf.keras.layers.Conv2D(32, (3,3), activation="relu", input_shape=(28,28,1)),
    tf.keras.layers.MaxPooling2D((2,2)),
    tf.keras.layers.Conv2D(64, (3,3), activation="relu"),
    tf.keras.layers.MaxPooling2D((2,2)),
    tf.keras.layers.Conv2D(128, (3,3), activation="relu"),
    tf.keras.layers.Flatten(),
    tf.keras.layers.Dense(128, activation="relu"),
    tf.keras.layers.Dense(10, activation="softmax")
])

# Compile the model
model.compile(optimizer="adam", loss="sparse_categorical_crossentropy", metrics=["accuracy"])

# Train the model on the Fashion-MNIST dataset
model.fit(X_train.reshape(-1,28,28,1), y_train, epochs=10, validation_data=(X_test.reshape(-1,28,28,1), y_test))
import numpy as np
import matplotlib.pyplot as plt

from tensorflow.keras import layers

# Define ResNet50 model architecture
input_tensor = layers.Input(shape=(224, 224, 3))
x = layers.ZeroPadding2D(padding=(3, 3))(input_tensor)
x = layers.Conv2D(64, (7, 7), strides=(2, 2), padding='valid', activation='relu')(x)
x = layers.BatchNormalization()(x)
x = layers.MaxPooling2D((3, 3), strides=(2, 2))(x)

# Residual blocks
def identity_block(input_tensor, filters):
    x = layers.Conv2D(filters, (1, 1), activation='relu')(input_tensor)
    x = layers.BatchNormalization()(x)
    x = layers.Conv2D(filters, (3, 3), padding='same', activation='relu')(x)
    x = layers.BatchNormalization()(x)
    x = layers.Conv2D(filters * 4, (1, 1))(x)
    x = layers.BatchNormalization()(x)
    x = layers.add([x, input_tensor])
    x = layers.Activation('relu')(x)
    return x

def conv_block(input_tensor, filters, strides):
    x = layers.Conv

# Choose a random image from the test set
index = np.random.randint(0, len(X_test))
image = X_test[index].reshape(28,28)

# Make a prediction using the trained model
prediction = model.predict(image.reshape(1,28,28,1))[0]
category = np.argmax(prediction)

# Plot the image and prediction result
fig, ax = plt.subplots()
ax.imshow(image, cmap="gray")
ax.set_title(f"Predicted category: {category}")
